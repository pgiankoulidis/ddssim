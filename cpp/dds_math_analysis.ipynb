{
 "cells": [
  {
   "cell_type": "markdown",
   "metadata": {},
   "source": [
    "# Mathematical Formulas in the DDS Code\n",
    "\n",
    "## Computing parameters for the Cormode & Garofalakis (TODS) model\n",
    "\n",
    "Assume that we are given a maximum overall error $\\beta$ for monitoring in the TODS method, with probability of failure equal to\n",
    "$\\gamma$. \n",
    "\n",
    "The sizing parameters of the model are the size of the sketch $D$ and $L$, the number of local sites $k$, and the local threshold $\\theta$. From the AGMS paper, a sketch of dimensions $D\\times L$ can answer queries with accuracy $\\epsilon = \\frac{4}{\\sqrt{L}}$, with probability at least $1-2^{-D/2}$.\n",
    "\n",
    "Note that the accuracy means the following: the sketch product \n",
    "at time $t$, say $X(t)$, will be \n",
    "$$ X(t) \\in F(t) \\pm \\beta \\|f_1(t)\\| \\|f_2(t)\\|,$$\n",
    "where $f_i(t)$ are the actual frequency vectors.\n",
    "\n",
    "\n",
    "On the other hand, the TODS method requires a local threshold $\\theta$, and guarantees that the coordinator can answer queries with accuracy $$\\beta = \\epsilon + (1+\\epsilon)^2 (2\\theta + \\theta^2),$$\n",
    "with probability of failure at most $$\\gamma = 2k\\cdot 2^{-D/2},$$.\n",
    "\n",
    "With respect to $L=\\frac{4}{\\epsilon^2}$ and $\\theta$, we have a trade-off, for any given $\\beta$. We can choose a value for $\\epsilon \\in (0, \\beta)$, and compute a matching $\\theta$.\n",
    "\n",
    "A good rule of the thumb, derived experimentally, seems to be to choose $\\epsilon = \\beta/2$. Whatever the choice for $\\epsilon$ is, we can the proceed as follows:\n",
    "\n",
    "1. $D = \\lceil 2\\log_2(\\frac{2k}{\\gamma})\\rceil$\n",
    "2. $L = \\lceil \\frac{16}{\\epsilon^2} \\rceil$\n",
    "3. $\\theta = \\sqrt{1+\\frac{\\beta-\\epsilon}{(1+\\epsilon)^2}} -1$.\n",
    "\n",
    "## Computing parameters for the Geometric Method\n",
    "\n",
    "Assume that we are given a maximum overall error $\\beta$ for monitoring in the Geometric Method, with probability of failure equal to $\\gamma$. \n",
    "\n",
    "Again, we have a choice of $\\epsilon \\in (0,\\beta)$ for the (global) sketch. Given this choice, the global sketch size can be chosen:\n",
    "\n",
    "1. $D = \\lceil 2\\log(\\frac{1}{\\gamma}) \\rceil$\n",
    "2. $L = \\lceil \\frac{16}{\\epsilon^2} \\rceil$\n",
    "\n",
    "Now, the task is to monitor the query approximately, so that the overall error is at most $\\beta$. To this effect, we will wish to create a safe zone for the sketch query $Q(t)$. That is, $Q(t)$ (which is unknown by the system) is the value of the sketch-product of the (unknown) global state---the sum of all local states. The AGMS theorem tells us that, with probability at least $1-\\gamma$, \n",
    "$$ Q(t) \\in f_1\\cdot f_2 \\pm \\epsilon \\|f_1\\| \\|f_2\\|, $$\n",
    "where $f_i$ are the unsketched frequency vectors. \n",
    "\n",
    "The system's estimate of $Q(t)$ is $Q_0$, the query value of the current estimate sketches at the coordinator. What we need is to construct a safe zone for $Q(t)$, that guarantees that $Q_0$ is a good \n",
    "estimate.\n",
    "\n",
    "\\begin{theorem} For the twoway-join query between frequency vectors $f_1$ and $f_2$, the admissible region\n",
    "$$  \\frac{1}{1+a} Q_0 \\leq Q(t) \\leq \\frac{1}{1-a} Q_0$$\n",
    "with $a = \\frac{\\beta-\\epsilon}{1+\\epsilon}$, \n",
    "ensures that, with probability at least $1-\\gamma$, it is\n",
    "$$  Q_0 \\in f_1\\cdot f_2 \\pm \\beta \\|f_1\\| \\|f_2\\|.$$\n",
    "\\end{theorem}\n",
    "\\begin{proof}\n",
    "The admissible region condition is equivalent to\n",
    "$$ Q(t)- aQ(t) \\leq Q_0 \\leq Q(t)+aQ(t). $$\n",
    "With probability at least $1-\\gamma$, \n",
    "$Q(t) \\in f_1\\cdot f_2 \\pm \\epsilon \\|f_1\\| \\|f_2\\|$.\n",
    "Also, it is $Q(t) \\leq (1+\\epsilon)\\|f_1\\| \\|f_2\\|$, therefore\n",
    "$a Q(t) \\leq (\\beta-\\epsilon)\\|f_1\\| \\|f_2\\|$.\n",
    "Plugging everything in the above formula, yields the desired bound.\n",
    "\\end{proof}\n",
    "\n",
    "When the query is selfjoin of frequency vector $f$, the formulas hold exactly, with $f=f_1=f_2$.\n"
   ]
  },
  {
   "cell_type": "code",
   "execution_count": null,
   "metadata": {
    "collapsed": true
   },
   "outputs": [],
   "source": [
    "\n",
    "\n",
    "\n"
   ]
  }
 ],
 "metadata": {
  "kernelspec": {
   "display_name": "Python 3",
   "language": "python",
   "name": "python3"
  },
  "language_info": {
   "codemirror_mode": {
    "name": "ipython",
    "version": 3
   },
   "file_extension": ".py",
   "mimetype": "text/x-python",
   "name": "python",
   "nbconvert_exporter": "python",
   "pygments_lexer": "ipython3",
   "version": "3.5.2+"
  },
  "latex_envs": {
   "LaTeX_envs_menu_present": true,
   "bibliofile": "biblio.bib",
   "cite_by": "apalike",
   "current_citInitial": 1,
   "eqLabelWithNumbers": true,
   "eqNumInitial": 1,
   "labels_anchors": false,
   "latex_user_defs": false,
   "report_style_numbering": false,
   "user_envs_cfg": false
  }
 },
 "nbformat": 4,
 "nbformat_minor": 2
}
